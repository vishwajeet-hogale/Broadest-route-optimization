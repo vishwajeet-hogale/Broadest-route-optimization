{
 "cells": [
  {
   "cell_type": "code",
   "execution_count": 3,
   "metadata": {},
   "outputs": [
    {
     "name": "stdout",
     "output_type": "stream",
     "text": [
      "Collecting geopy\n",
      "  Using cached geopy-2.4.1-py3-none-any.whl.metadata (6.8 kB)\n",
      "Collecting geographiclib<3,>=1.52 (from geopy)\n",
      "  Using cached geographiclib-2.0-py3-none-any.whl.metadata (1.4 kB)\n",
      "Using cached geopy-2.4.1-py3-none-any.whl (125 kB)\n",
      "Using cached geographiclib-2.0-py3-none-any.whl (40 kB)\n",
      "Installing collected packages: geographiclib, geopy\n",
      "Successfully installed geographiclib-2.0 geopy-2.4.1\n"
     ]
    },
    {
     "name": "stderr",
     "output_type": "stream",
     "text": [
      "\n",
      "[notice] A new release of pip is available: 23.3.1 -> 24.0\n",
      "[notice] To update, run: python.exe -m pip install --upgrade pip\n"
     ]
    }
   ],
   "source": [
    "!pip install geopy"
   ]
  },
  {
   "cell_type": "code",
   "execution_count": 1,
   "metadata": {},
   "outputs": [],
   "source": [
    "\n",
    "import main.simulation.traversal as t\n",
    "import pandas as pd"
   ]
  },
  {
   "cell_type": "code",
   "execution_count": 2,
   "metadata": {},
   "outputs": [
    {
     "data": {
      "text/html": [
       "<div>\n",
       "<style scoped>\n",
       "    .dataframe tbody tr th:only-of-type {\n",
       "        vertical-align: middle;\n",
       "    }\n",
       "\n",
       "    .dataframe tbody tr th {\n",
       "        vertical-align: top;\n",
       "    }\n",
       "\n",
       "    .dataframe thead th {\n",
       "        text-align: right;\n",
       "    }\n",
       "</style>\n",
       "<table border=\"1\" class=\"dataframe\">\n",
       "  <thead>\n",
       "    <tr style=\"text-align: right;\">\n",
       "      <th></th>\n",
       "      <th>source</th>\n",
       "      <th>destination</th>\n",
       "      <th>width</th>\n",
       "      <th>distance</th>\n",
       "      <th>speed limit</th>\n",
       "      <th>time</th>\n",
       "    </tr>\n",
       "  </thead>\n",
       "  <tbody>\n",
       "    <tr>\n",
       "      <th>0</th>\n",
       "      <td>1</td>\n",
       "      <td>2</td>\n",
       "      <td>50.0</td>\n",
       "      <td>1.0</td>\n",
       "      <td>40</td>\n",
       "      <td>1.50</td>\n",
       "    </tr>\n",
       "    <tr>\n",
       "      <th>1</th>\n",
       "      <td>1</td>\n",
       "      <td>13</td>\n",
       "      <td>50.0</td>\n",
       "      <td>7.0</td>\n",
       "      <td>40</td>\n",
       "      <td>10.50</td>\n",
       "    </tr>\n",
       "    <tr>\n",
       "      <th>2</th>\n",
       "      <td>2</td>\n",
       "      <td>3</td>\n",
       "      <td>20.0</td>\n",
       "      <td>3.0</td>\n",
       "      <td>40</td>\n",
       "      <td>4.50</td>\n",
       "    </tr>\n",
       "    <tr>\n",
       "      <th>3</th>\n",
       "      <td>2</td>\n",
       "      <td>4</td>\n",
       "      <td>50.0</td>\n",
       "      <td>2.0</td>\n",
       "      <td>40</td>\n",
       "      <td>3.00</td>\n",
       "    </tr>\n",
       "    <tr>\n",
       "      <th>4</th>\n",
       "      <td>3</td>\n",
       "      <td>14</td>\n",
       "      <td>20.0</td>\n",
       "      <td>6.0</td>\n",
       "      <td>40</td>\n",
       "      <td>9.00</td>\n",
       "    </tr>\n",
       "    <tr>\n",
       "      <th>...</th>\n",
       "      <td>...</td>\n",
       "      <td>...</td>\n",
       "      <td>...</td>\n",
       "      <td>...</td>\n",
       "      <td>...</td>\n",
       "      <td>...</td>\n",
       "    </tr>\n",
       "    <tr>\n",
       "      <th>56</th>\n",
       "      <td>19</td>\n",
       "      <td>42</td>\n",
       "      <td>20.0</td>\n",
       "      <td>3.0</td>\n",
       "      <td>40</td>\n",
       "      <td>4.50</td>\n",
       "    </tr>\n",
       "    <tr>\n",
       "      <th>57</th>\n",
       "      <td>42</td>\n",
       "      <td>25</td>\n",
       "      <td>5.0</td>\n",
       "      <td>0.5</td>\n",
       "      <td>40</td>\n",
       "      <td>0.75</td>\n",
       "    </tr>\n",
       "    <tr>\n",
       "      <th>58</th>\n",
       "      <td>42</td>\n",
       "      <td>43</td>\n",
       "      <td>20.0</td>\n",
       "      <td>2.0</td>\n",
       "      <td>40</td>\n",
       "      <td>3.00</td>\n",
       "    </tr>\n",
       "    <tr>\n",
       "      <th>59</th>\n",
       "      <td>43</td>\n",
       "      <td>44</td>\n",
       "      <td>20.0</td>\n",
       "      <td>1.0</td>\n",
       "      <td>40</td>\n",
       "      <td>1.50</td>\n",
       "    </tr>\n",
       "    <tr>\n",
       "      <th>60</th>\n",
       "      <td>44</td>\n",
       "      <td>26</td>\n",
       "      <td>20.0</td>\n",
       "      <td>1.6</td>\n",
       "      <td>40</td>\n",
       "      <td>2.40</td>\n",
       "    </tr>\n",
       "  </tbody>\n",
       "</table>\n",
       "<p>61 rows × 6 columns</p>\n",
       "</div>"
      ],
      "text/plain": [
       "    source  destination  width  distance  speed limit   time\n",
       "0        1            2   50.0       1.0           40   1.50\n",
       "1        1           13   50.0       7.0           40  10.50\n",
       "2        2            3   20.0       3.0           40   4.50\n",
       "3        2            4   50.0       2.0           40   3.00\n",
       "4        3           14   20.0       6.0           40   9.00\n",
       "..     ...          ...    ...       ...          ...    ...\n",
       "56      19           42   20.0       3.0           40   4.50\n",
       "57      42           25    5.0       0.5           40   0.75\n",
       "58      42           43   20.0       2.0           40   3.00\n",
       "59      43           44   20.0       1.0           40   1.50\n",
       "60      44           26   20.0       1.6           40   2.40\n",
       "\n",
       "[61 rows x 6 columns]"
      ]
     },
     "execution_count": 2,
     "metadata": {},
     "output_type": "execute_result"
    }
   ],
   "source": [
    "excel_file_path = 'dataset4POC 3.xlsx'  # path of the excel file\n",
    "edges_data = pd.read_excel(excel_file_path,dtype={'source':int,'destination':int,'width':float,'height':float,'speed limit':int,'time':float})\n",
    "edges_data"
   ]
  },
  {
   "cell_type": "code",
   "execution_count": 18,
   "metadata": {},
   "outputs": [
    {
     "name": "stdout",
     "output_type": "stream",
     "text": [
      "Shortest path width distance: [17, 18, 15] ETA 11.25\n",
      "Shortest path distance: [17, 16, 39, 15] ETA 9.75\n"
     ]
    }
   ],
   "source": [
    "\n",
    "# convert edge list into adjacency matrix\n",
    "# adjacency matrix with distnace as cost\n",
    "adjacency_matrix_distance = t.create_adjacency_matrix(edges_data, lambda width,distance,time: distance )\n",
    "\n",
    "# adjacency matrix with width as cost\n",
    "adjacency_matrix_width= t.create_adjacency_matrix(edges_data, lambda width,distance,time: width )\n",
    "\n",
    "# adjacency matrix with time as cost\n",
    "adjacency_matrix_time= t.create_adjacency_matrix(edges_data, lambda width,distance,time: time )\n",
    "\n",
    "# normalization of width and distance\n",
    "edges_data['distance'] = t.min_max_scaling(edges_data['distance'])\n",
    "edges_data['width'] = t.min_max_scaling(edges_data['width'])\n",
    "\n",
    "# adjacency matrix with normalized width and distance\n",
    "adjacency_matrix_width_dist = t.create_adjacency_matrix(edges_data,lambda x,y,z : (1.1-x)*y )\n",
    "adjacency_matrix_dist = t.create_adjacency_matrix(edges_data,lambda x,y,z : y )\n",
    "\n",
    "\n",
    "# define source and destination vertex\n",
    "source_vertex = 16\n",
    "target_vertex = 14\n",
    "\n",
    "# compute shortest path using bellman_ford or dijikstra's algorithm\n",
    "shortest_path_width_dist = t.uniform_cost_search(adjacency_matrix_width_dist, source_vertex, target_vertex)\n",
    "shortest_path_dist = t.uniform_cost_search(adjacency_matrix_dist, source_vertex, target_vertex)\n",
    "\n",
    "# computing total distance and average width of the route road\n",
    "dist_dist = 0\n",
    "width_sum_dist=0\n",
    "time_dist=0\n",
    "for i in range(len(shortest_path_dist)-1):\n",
    "    dist_dist += adjacency_matrix_distance[shortest_path_dist[i]-1,shortest_path_dist[i+1]-1]\n",
    "    time_dist += adjacency_matrix_time[shortest_path_dist[i]-1,shortest_path_dist[i+1]-1]\n",
    "    width_sum_dist += adjacency_matrix_width[shortest_path_dist[i]-1,shortest_path_dist[i+1]-1]\n",
    "\n",
    "dist_width = 0\n",
    "width_sum_width=0\n",
    "time_width=0\n",
    "for i in range(len(shortest_path_width_dist)-1):\n",
    "    dist_width += adjacency_matrix_distance[shortest_path_width_dist[i]-1,shortest_path_width_dist[i+1]-1]\n",
    "    width_sum_width += adjacency_matrix_width[shortest_path_width_dist[i]-1,shortest_path_width_dist[i+1]-1]\n",
    "    time_width += adjacency_matrix_time[shortest_path_width_dist[i]-1,shortest_path_width_dist[i+1]-1]\n",
    "\n",
    "\n",
    "avg_width_dist = round(width_sum_dist / len(shortest_path_width_dist),2)\n",
    "avg_width_width = round(width_sum_width / len(shortest_path_width_dist),2)\n",
    "# print(f\"Source ( {source_vertex} ) to Destination ( {target_vertex} )\")\n",
    "# print(f\"Shortest distance  :  {dist}\")\n",
    "# print(f\"Average width  :  {avg_width}\")\n",
    "print(f\"Shortest path width distance: {shortest_path_width_dist}\",f\"ETA {time_width}\")\n",
    "print(f\"Shortest path distance: {shortest_path_dist}\",f\"ETA {time_dist}\")"
   ]
  },
  {
   "cell_type": "code",
   "execution_count": 15,
   "metadata": {},
   "outputs": [
    {
     "name": "stderr",
     "output_type": "stream",
     "text": [
      "C:\\Users\\namalli\\AppData\\Local\\Temp\\ipykernel_36760\\2661602368.py:1: UserWarning: Boolean Series key will be reindexed to match DataFrame index.\n",
      "  edges_data[edges_data['source'] == shortest_path_width_dist[i]][edges_data['destination']==shortest_path_width_dist[i+1]]['time'].to_list()[0]\n"
     ]
    },
    {
     "ename": "IndexError",
     "evalue": "list index out of range",
     "output_type": "error",
     "traceback": [
      "\u001b[1;31m---------------------------------------------------------------------------\u001b[0m",
      "\u001b[1;31mIndexError\u001b[0m                                Traceback (most recent call last)",
      "Cell \u001b[1;32mIn[15], line 1\u001b[0m\n\u001b[1;32m----> 1\u001b[0m \u001b[43medges_data\u001b[49m\u001b[43m[\u001b[49m\u001b[43medges_data\u001b[49m\u001b[43m[\u001b[49m\u001b[38;5;124;43m'\u001b[39;49m\u001b[38;5;124;43msource\u001b[39;49m\u001b[38;5;124;43m'\u001b[39;49m\u001b[43m]\u001b[49m\u001b[43m \u001b[49m\u001b[38;5;241;43m==\u001b[39;49m\u001b[43m \u001b[49m\u001b[43mshortest_path_width_dist\u001b[49m\u001b[43m[\u001b[49m\u001b[43mi\u001b[49m\u001b[43m]\u001b[49m\u001b[43m]\u001b[49m\u001b[43m[\u001b[49m\u001b[43medges_data\u001b[49m\u001b[43m[\u001b[49m\u001b[38;5;124;43m'\u001b[39;49m\u001b[38;5;124;43mdestination\u001b[39;49m\u001b[38;5;124;43m'\u001b[39;49m\u001b[43m]\u001b[49m\u001b[38;5;241;43m==\u001b[39;49m\u001b[43mshortest_path_width_dist\u001b[49m\u001b[43m[\u001b[49m\u001b[43mi\u001b[49m\u001b[38;5;241;43m+\u001b[39;49m\u001b[38;5;241;43m1\u001b[39;49m\u001b[43m]\u001b[49m\u001b[43m]\u001b[49m\u001b[43m[\u001b[49m\u001b[38;5;124;43m'\u001b[39;49m\u001b[38;5;124;43mtime\u001b[39;49m\u001b[38;5;124;43m'\u001b[39;49m\u001b[43m]\u001b[49m\u001b[38;5;241;43m.\u001b[39;49m\u001b[43mto_list\u001b[49m\u001b[43m(\u001b[49m\u001b[43m)\u001b[49m\u001b[43m[\u001b[49m\u001b[38;5;241;43m0\u001b[39;49m\u001b[43m]\u001b[49m\n",
      "\u001b[1;31mIndexError\u001b[0m: list index out of range"
     ]
    }
   ],
   "source": []
  },
  {
   "cell_type": "code",
   "execution_count": 16,
   "metadata": {},
   "outputs": [
    {
     "name": "stdout",
     "output_type": "stream",
     "text": [
      "10.5\n"
     ]
    },
    {
     "name": "stderr",
     "output_type": "stream",
     "text": [
      "C:\\Users\\namalli\\AppData\\Local\\Temp\\ipykernel_36760\\775810484.py:2: UserWarning: Boolean Series key will be reindexed to match DataFrame index.\n",
      "  print(edges_data[edges_data['source'] == shortest_path_width_dist[i]][edges_data['destination']==shortest_path_width_dist[i+1]]['time'].to_list()[0])\n",
      "C:\\Users\\namalli\\AppData\\Local\\Temp\\ipykernel_36760\\775810484.py:4: UserWarning: Boolean Series key will be reindexed to match DataFrame index.\n",
      "  print(edges_data[edges_data['source'] == shortest_path_width_dist[i+1]][edges_data['destination']==shortest_path_width_dist[i]]['time'].to_list()[0])\n"
     ]
    }
   ],
   "source": [
    "try:\n",
    "    print(edges_data[edges_data['source'] == shortest_path_width_dist[i]][edges_data['destination']==shortest_path_width_dist[i+1]]['time'].to_list()[0])\n",
    "except:\n",
    "    print(edges_data[edges_data['source'] == shortest_path_width_dist[i+1]][edges_data['destination']==shortest_path_width_dist[i]]['time'].to_list()[0])"
   ]
  },
  {
   "cell_type": "code",
   "execution_count": null,
   "metadata": {},
   "outputs": [],
   "source": []
  }
 ],
 "metadata": {
  "kernelspec": {
   "display_name": "Python 3",
   "language": "python",
   "name": "python3"
  },
  "language_info": {
   "codemirror_mode": {
    "name": "ipython",
    "version": 3
   },
   "file_extension": ".py",
   "mimetype": "text/x-python",
   "name": "python",
   "nbconvert_exporter": "python",
   "pygments_lexer": "ipython3",
   "version": "3.11.5"
  }
 },
 "nbformat": 4,
 "nbformat_minor": 2
}
